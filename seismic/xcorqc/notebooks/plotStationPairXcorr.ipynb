{
 "cells": [
  {
   "cell_type": "code",
   "execution_count": 1,
   "metadata": {},
   "outputs": [],
   "source": [
    "import os\n",
    "import sys"
   ]
  },
  {
   "cell_type": "code",
   "execution_count": 2,
   "metadata": {},
   "outputs": [],
   "source": [
    "import numpy as np\n",
    "import scipy\n",
    "import matplotlib.dates\n",
    "import matplotlib.pyplot as plt\n",
    "import datetime\n",
    "import dateutil\n",
    "from dateutil import rrule"
   ]
  },
  {
   "cell_type": "code",
   "execution_count": 3,
   "metadata": {},
   "outputs": [],
   "source": [
    "package_root = os.path.abspath('../../..')\n",
    "if package_root not in sys.path:\n",
    "    sys.path.append(package_root)\n",
    "from seismic.ASDFdatabase import FederatedASDFDataSet"
   ]
  },
  {
   "cell_type": "code",
   "execution_count": 4,
   "metadata": {},
   "outputs": [],
   "source": [
    "import obspy\n",
    "from seismic.xcorqc.analytic_plot_utils import distance\n",
    "from netCDF4 import Dataset as NCDataset"
   ]
  },
  {
   "cell_type": "code",
   "execution_count": 5,
   "metadata": {},
   "outputs": [],
   "source": [
    "# Imports for plotting\n",
    "from textwrap import wrap\n",
    "from scipy import signal\n",
    "from matplotlib.backends.backend_pdf import PdfPages"
   ]
  },
  {
   "cell_type": "code",
   "execution_count": 6,
   "metadata": {},
   "outputs": [],
   "source": [
    "from seismic.xcorqc.xcorr_station_clock_analysis import plot_xcorr_file_clock_analysis"
   ]
  },
  {
   "cell_type": "code",
   "execution_count": 7,
   "metadata": {},
   "outputs": [
    {
     "name": "stdout",
     "output_type": "stream",
     "text": [
      "Found database: /g/data/ha3/Passive/SHARED_DATA/Index/c120284bcf4931e639eecf4e026f6ccfaf7b6306.db\n"
     ]
    }
   ],
   "source": [
    "ds = FederatedASDFDataSet.FederatedASDFDataSet(\"/g/data/ha3/Passive/SHARED_DATA/Index/asdf_files.txt\")"
   ]
  },
  {
   "cell_type": "code",
   "execution_count": 33,
   "metadata": {},
   "outputs": [],
   "source": [
    "# TIME_WINDOW = 300 # +/-\n",
    "TIME_WINDOW = 120 # +/-\n",
    "# SNR_THRESHOLD = 10\n",
    "SNR_THRESHOLD = 6"
   ]
  },
  {
   "cell_type": "code",
   "execution_count": null,
   "metadata": {
    "scrolled": false
   },
   "outputs": [],
   "source": [
    "# SRC_FILES = [\"/g/data/ha3/am7399/shared/xcorr/AU/ARMA_CMSA/AU.ARMA.AU.CMSA.nc\",\n",
    "#              \"/g/data/ha3/am7399/shared/xcorr/AU/KAKA_MTN/AU.KAKA.AU.MTN.nc\",\n",
    "#              \"/g/data/ha3/am7399/shared/xcorr/AU/MEEK_MORW/AU.MEEK.AU.MORW.nc\",\n",
    "#              \"/g/data/ha3/am7399/shared/xcorr/AU/MOO_TOO/AU.MOO.AU.TOO.nc\",\n",
    "#              \"/g/data/ha3/am7399/shared/xcorr/AU/MUN_NWAO/AU.MUN.AU.NWAO.nc\",\n",
    "#              \"/g/data/ha3/am7399/shared/xcorr/AU/RKGY_NWAO/AU.RKGY.AU.NWAO.nc\",\n",
    "#              \"/g/data/ha3/am7399/shared/xcorr/AU/HTT_STKA/AU.HTT.AU.STKA.nc\",\n",
    "#              \"/g/data/ha3/am7399/shared/xcorr/AU/RMQ_EIDS/AU.RMQ.AU.EIDS.nc\",\n",
    "#              \"/g/data/ha3/am7399/shared/xcorr/AU/YNG_CNB/AU.YNG.AU.CNB.nc\",\n",
    "#              \"/g/data/ha3/am7399/shared/xcorr/AU/WC1_WC2/AU.WC1.AU.WC2.nc\"]\n",
    "# SRC_FILES = [\"/g/data/ha3/am7399/shared/xcorr/AU/YNG_CNB/AU.YNG.AU.CNB.nc\",\n",
    "#              \"/g/data/ha3/am7399/shared/xcorr/AU/WC1_WC2/AU.WC1.AU.WC2.nc\"]\n",
    "# SRC_FILES = [\"/g/data/ha3/am7399/shared/xcorr/AU/KAKA_MTN/AU.KAKA.AU.MTN.nc\"]\n",
    "# SRC_FILES = [\"/g/data/ha3/am7399/shared/xcorr/AU/MUN_NWAO/AU.MUN.AU.NWAO.nc\"]\n",
    "# SRC_FILES = [\"/g/data/ha3/am7399/shared/xcorr/AU/KAKA_MTN/AU.KAKA.AU.MTN.nc\",\n",
    "#              \"/g/data/ha3/am7399/shared/xcorr/AU/MUN_NWAO/AU.MUN.AU.NWAO.nc\"]\n",
    "\n",
    "# Low band experiment:\n",
    "# SRC_FILES = [\"/g/data/ha3/am7399/shared/xcorr/AU/KAKA_MTN/0.3-1.0/AU.KAKA.AU.MTN.nc\",\n",
    "#              \"/g/data/ha3/am7399/shared/xcorr/AU/MUN_NWAO/0.3-1.0/AU.MUN.AU.NWAO.nc\",\n",
    "#              \"/g/data/ha3/am7399/shared/xcorr/AU/YNG_CNB/0.3-1.0/AU.YNG.AU.CNB.nc\"]\n",
    "\n",
    "# Checking AU.ARMA [BHZ] against trusted AU.RMQ [SHZ]\n",
    "# SRC_FILES = [\"/g/data/ha3/am7399/shared/xcorr/AU/ARMA_RMQ/2012/0.3-1.0/AU.ARMA.AU.RMQ.nc\",\n",
    "#              \"/g/data/ha3/am7399/shared/xcorr/AU/ARMA_RMQ/2013/0.3-1.0/AU.ARMA.AU.RMQ.nc\",\n",
    "#              \"/g/data/ha3/am7399/shared/xcorr/AU/ARMA_RMQ/2014/0.3-1.0/AU.ARMA.AU.RMQ.nc\",\n",
    "#              \"/g/data/ha3/am7399/shared/xcorr/AU/ARMA_RMQ/2015-16/0.3-1.0/AU.ARMA.AU.RMQ.nc\"\n",
    "#             ]\n",
    "\n",
    "# Checking RMQ against EIDS\n",
    "# SRC_FILES = [\"/g/data/ha3/am7399/shared/xcorr/AU/RMQ_EIDS/2010-2011/AU.RMQ.AU.EIDS.nc\",\n",
    "#              \"/g/data/ha3/am7399/shared/xcorr/AU/RMQ_EIDS/2010-2011/AU.RMQ.AU.EIDS.2010-2011.nc\"]\n",
    "# SRC_FILES = [\"/g/data/ha3/am7399/shared/xcorr/AU/RMQ_EIDS/2012/AU.RMQ.AU.EIDS.nc\",\n",
    "#              \"/g/data/ha3/am7399/shared/xcorr/AU/RMQ_EIDS/2013/AU.RMQ.AU.EIDS.nc\",\n",
    "#              \"/g/data/ha3/am7399/shared/xcorr/AU/RMQ_EIDS/2014/AU.RMQ.AU.EIDS.nc\",\n",
    "#              \"/g/data/ha3/am7399/shared/xcorr/AU/RMQ_EIDS/2015/AU.RMQ.AU.EIDS.nc\"\n",
    "#             ]\n",
    "\n",
    "# Checking ARMA against nearby AUPHS\n",
    "# SRC_FILES = [\"/g/data/ha3/am7399/shared/xcorr/AU/ARMA_AUPHS/2014/AU.ARMA.S.AUPHS.nc\",\n",
    "#              \"/g/data/ha3/am7399/shared/xcorr/AU/ARMA_AUPHS/2015/AU.ARMA.S.AUPHS.nc\",\n",
    "#              \"/g/data/ha3/am7399/shared/xcorr/AU/ARMA_AUPHS/2016/AU.ARMA.S.AUPHS.nc\",\n",
    "#              \"/g/data/ha3/am7399/shared/xcorr/AU/ARMA_AUPHS/2017/AU.ARMA.S.AUPHS.nc\"\n",
    "#             ]\n",
    "\n",
    "# Checking 7X.* against QIS\n",
    "# SRC_FILES = [\"/g/data/ha3/am7399/shared/xcorr/7X/MA43_QIS/7X.MA43.AU.QIS.1.0-10.0.nc\"]\n",
    "# SRC_FILES = [\"/g/data/ha3/am7399/shared/xcorr/7X/MA42_QIS/7X.MA43.AU.QIS.1.0-10.0.nc\",\n",
    "#              \"/g/data/ha3/am7399/shared/xcorr/7X/MA52_QIS/7X.MA52.AU.QIS.1.0-10.0.nc\"]\n",
    "# SRC_FILES = [\"/g/data/ha3/am7399/shared/xcorr/7X/MA53_QIS.SHZ/7X.MA53.AU.QIS.0.01-10.0.nc\"]\n",
    "# SRC_FILES = [\"/g/data/ha3/am7399/shared/xcorr/7X/MB41_QIS/7X.MB41.AU.QIS.nc\"]\n",
    "SRC_FILES = [\"/g/data/ha3/am7399/shared/xcorr/7X/MB51_QIS/7X.MB51.AU.QIS.nc\"]\n",
    "# tag = '(1.0-10.0 Hz)'\n",
    "# tag = '(0.01-10.0 Hz)'\n",
    "# tag = '(0.01-5.0 Hz)'\n",
    "tag = '(1.0-5.0 Hz)'\n",
    "\n",
    "# Checking 7X.* against MTSU\n",
    "# SRC_FILES = [\"/g/data/ha3/am7399/shared/xcorr/7X/MB34_MTSU/7X.MB34.AU.MTSU.0.3-1.0.nc\"]\n",
    "# tag = '(0.3-1.0 Hz)'\n",
    "\n",
    "# Checking 7X.MA51 against 7X.MA52\n",
    "# SRC_FILES = [\"/g/data/ha3/am7399/shared/xcorr/7X/MA51_MA52/7X.MA51.7X.MA52.nc\"]\n",
    "# tag = '(0.3-5.0 Hz)'\n",
    "# tag = '(0.1-3.0 Hz)'\n",
    "\n",
    "\n",
    "save_plots = True\n",
    "underlay_rcf_xcorr = False\n",
    "for src_file in SRC_FILES:\n",
    "    assert os.path.exists(src_file), \"File {} not found!\".format(src_file)\n",
    "    if save_plots:\n",
    "        basename, _ = os.path.splitext(src_file)\n",
    "        png_file = basename + \".png\"\n",
    "        plot_xcorr_file_clock_analysis(src_file, ds, TIME_WINDOW, SNR_THRESHOLD, png_file=png_file, show=False,\n",
    "                                       underlay_rcf_xcorr=underlay_rcf_xcorr, title_tag=tag)\n",
    "    else:\n",
    "        plot_xcorr_file_clock_analysis(src_file, ds, TIME_WINDOW, SNR_THRESHOLD, \n",
    "                                       underlay_rcf_xcorr=underlay_rcf_xcorr, title_tag=tag)"
   ]
  },
  {
   "cell_type": "code",
   "execution_count": null,
   "metadata": {},
   "outputs": [],
   "source": []
  }
 ],
 "metadata": {
  "kernelspec": {
   "display_name": "Python 2",
   "language": "python",
   "name": "python2"
  },
  "language_info": {
   "codemirror_mode": {
    "name": "ipython",
    "version": 2
   },
   "file_extension": ".py",
   "mimetype": "text/x-python",
   "name": "python",
   "nbconvert_exporter": "python",
   "pygments_lexer": "ipython2",
   "version": "2.7.11"
  }
 },
 "nbformat": 4,
 "nbformat_minor": 2
}
